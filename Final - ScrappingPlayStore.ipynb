{
 "cells": [
  {
   "cell_type": "markdown",
   "metadata": {},
   "source": [
    "## Scrapping Review Playstore : Aplikasi Brimo"
   ]
  },
  {
   "cell_type": "code",
   "execution_count": null,
   "metadata": {},
   "outputs": [],
   "source": [
    "import os\n",
    "import pandas as pd\n",
    "\n",
    "nama_file = \"Hasil Scrapping Review Playstore.csv\"\n",
    "\n",
    "# Cek apakah file ada\n",
    "if not os.path.exists(nama_file) or pd.read_csv(nama_file).empty:\n",
    "    from google_play_scraper import reviews_all\n",
    "\n",
    "    package_name = \"id.co.bri.brimo\"\n",
    "\n",
    "    # Ambil semua ulasan\n",
    "    result = reviews_all(\n",
    "        package_name,\n",
    "        sleep_milliseconds=10,\n",
    "        lang=\"id\",\n",
    "        country=\"id\"\n",
    "    )\n",
    "\n",
    "    # Pilih hanya kolom yang dibutuhkan\n",
    "    filtered_reviews = [\n",
    "        {\n",
    "            \"reviewId\": r[\"reviewId\"],\n",
    "            \"content\": r[\"content\"],\n",
    "            \"score\": r[\"score\"],\n",
    "            \"thumbsUpCount\": r[\"thumbsUpCount\"]\n",
    "        }\n",
    "        for r in result\n",
    "    ]\n",
    "\n",
    "    # Konversi ke DataFrame\n",
    "    df = pd.DataFrame(filtered_reviews)\n",
    "\n",
    "    # Simpan ke CSV\n",
    "    df.to_csv(nama_file, index=False, encoding=\"utf-8\")\n",
    "\n",
    "    print(f'Berhasil mengambil {len(df)} ulasan dan disimpan di {nama_file}')\n",
    "else:\n",
    "    print(f\"File {nama_file} sudah ada dan tidak kosong. Tidak perlu scraping ulang.\")\n"
   ]
  },
  {
   "cell_type": "markdown",
   "metadata": {},
   "source": [
    "**Penjelasan** : <br>\n",
    "Kode ini melakukan scrapping pada review playstore untuk Aplikasi Brimo dengan mengambil keseluruhan review. Saya menggunakan library google-play-scrapper untuk melakukan proses scrapping. Pada kode ini juga diberikan pengecekan awal jika sudah ada file hasil scrapping maka akan diskip. Hal ini dikarenakan kode ini awalnya menyatu dengan kode model, sehingga proses bisa dilakukan 1 kali running saja."
   ]
  }
 ],
 "metadata": {
  "language_info": {
   "name": "python"
  }
 },
 "nbformat": 4,
 "nbformat_minor": 2
}
